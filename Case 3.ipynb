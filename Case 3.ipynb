{
 "cells": [
  {
   "cell_type": "markdown",
   "metadata": {},
   "source": [
    "# Case 3: Patient Drug Review\n",
    "Cognitive Systems for Health Technology Applications, Spring 2019 \n",
    "Mika Paavola\n",
    "Metropolia University of Applied science"
   ]
  },
  {
   "cell_type": "markdown",
   "metadata": {},
   "source": [
    "# Aim of the study\n",
    "The aim of this assignment is to learn to use neural networks to process text data and predict ratings associated to the text. "
   ]
  },
  {
   "cell_type": "markdown",
   "metadata": {},
   "source": [
    "# importing Libraries and data"
   ]
  },
  {
   "cell_type": "code",
   "execution_count": 26,
   "metadata": {},
   "outputs": [
    {
     "name": "stdout",
     "output_type": "stream",
     "text": [
      "['drugsComTest_raw.csv', 'drugsComTrain_raw.csv']\n"
     ]
    },
    {
     "name": "stderr",
     "output_type": "stream",
     "text": [
      "[nltk_data] Downloading package stopwords to\n",
      "[nltk_data]     C:\\Users\\mikap\\AppData\\Roaming\\nltk_data...\n",
      "[nltk_data]   Package stopwords is already up-to-date!\n"
     ]
    }
   ],
   "source": [
    "# Import basic libraries\n",
    "import numpy as np \n",
    "import pandas as pd \n",
    "import keras\n",
    "import os\n",
    "import nltk\n",
    "nltk.download('stopwords')\n",
    "from nltk.corpus import stopwords\n",
    "from nltk.stem import WordNetLemmatizer\n",
    "from keras.layers import Dense, Activation, Dropout, LSTM, Embedding, GRU\n",
    "from keras.preprocessing.sequence import pad_sequences\n",
    "from keras.preprocessing.text import Tokenizer\n",
    "from keras.utils import to_categorical\n",
    "from sklearn.utils import compute_class_weight\n",
    "\n",
    "\n",
    "#Print list of data from directory\n",
    "print(os.listdir(\"Case3/data\"))"
   ]
  },
  {
   "cell_type": "markdown",
   "metadata": {},
   "source": [
    "# Data\n",
    "\n",
    "The structure of the data is that a patient with a unique ID purchases a drug that meets his condition and writes a review and rating for the drug he/she purchased on the date. "
   ]
  },
  {
   "cell_type": "code",
   "execution_count": 27,
   "metadata": {},
   "outputs": [
    {
     "data": {
      "text/html": [
       "<div>\n",
       "<style scoped>\n",
       "    .dataframe tbody tr th:only-of-type {\n",
       "        vertical-align: middle;\n",
       "    }\n",
       "\n",
       "    .dataframe tbody tr th {\n",
       "        vertical-align: top;\n",
       "    }\n",
       "\n",
       "    .dataframe thead th {\n",
       "        text-align: right;\n",
       "    }\n",
       "</style>\n",
       "<table border=\"1\" class=\"dataframe\">\n",
       "  <thead>\n",
       "    <tr style=\"text-align: right;\">\n",
       "      <th></th>\n",
       "      <th>uniqueID</th>\n",
       "      <th>drugName</th>\n",
       "      <th>condition</th>\n",
       "      <th>review</th>\n",
       "      <th>rating</th>\n",
       "      <th>date</th>\n",
       "      <th>usefulCount</th>\n",
       "    </tr>\n",
       "  </thead>\n",
       "  <tbody>\n",
       "    <tr>\n",
       "      <th>0</th>\n",
       "      <td>206461</td>\n",
       "      <td>Valsartan</td>\n",
       "      <td>Left Ventricular Dysfunction</td>\n",
       "      <td>\"It has no side effect, I take it in combinati...</td>\n",
       "      <td>9</td>\n",
       "      <td>20-May-12</td>\n",
       "      <td>27</td>\n",
       "    </tr>\n",
       "    <tr>\n",
       "      <th>1</th>\n",
       "      <td>95260</td>\n",
       "      <td>Guanfacine</td>\n",
       "      <td>ADHD</td>\n",
       "      <td>\"My son is halfway through his fourth week of ...</td>\n",
       "      <td>8</td>\n",
       "      <td>27-Apr-10</td>\n",
       "      <td>192</td>\n",
       "    </tr>\n",
       "    <tr>\n",
       "      <th>2</th>\n",
       "      <td>92703</td>\n",
       "      <td>Lybrel</td>\n",
       "      <td>Birth Control</td>\n",
       "      <td>\"I used to take another oral contraceptive, wh...</td>\n",
       "      <td>5</td>\n",
       "      <td>14-Dec-09</td>\n",
       "      <td>17</td>\n",
       "    </tr>\n",
       "    <tr>\n",
       "      <th>3</th>\n",
       "      <td>138000</td>\n",
       "      <td>Ortho Evra</td>\n",
       "      <td>Birth Control</td>\n",
       "      <td>\"This is my first time using any form of birth...</td>\n",
       "      <td>8</td>\n",
       "      <td>3-Nov-15</td>\n",
       "      <td>10</td>\n",
       "    </tr>\n",
       "    <tr>\n",
       "      <th>4</th>\n",
       "      <td>35696</td>\n",
       "      <td>Buprenorphine / naloxone</td>\n",
       "      <td>Opiate Dependence</td>\n",
       "      <td>\"Suboxone has completely turned my life around...</td>\n",
       "      <td>9</td>\n",
       "      <td>27-Nov-16</td>\n",
       "      <td>37</td>\n",
       "    </tr>\n",
       "  </tbody>\n",
       "</table>\n",
       "</div>"
      ],
      "text/plain": [
       "   uniqueID                  drugName                     condition  \\\n",
       "0    206461                 Valsartan  Left Ventricular Dysfunction   \n",
       "1     95260                Guanfacine                          ADHD   \n",
       "2     92703                    Lybrel                 Birth Control   \n",
       "3    138000                Ortho Evra                 Birth Control   \n",
       "4     35696  Buprenorphine / naloxone             Opiate Dependence   \n",
       "\n",
       "                                              review  rating       date  \\\n",
       "0  \"It has no side effect, I take it in combinati...       9  20-May-12   \n",
       "1  \"My son is halfway through his fourth week of ...       8  27-Apr-10   \n",
       "2  \"I used to take another oral contraceptive, wh...       5  14-Dec-09   \n",
       "3  \"This is my first time using any form of birth...       8   3-Nov-15   \n",
       "4  \"Suboxone has completely turned my life around...       9  27-Nov-16   \n",
       "\n",
       "   usefulCount  \n",
       "0           27  \n",
       "1          192  \n",
       "2           17  \n",
       "3           10  \n",
       "4           37  "
      ]
     },
     "execution_count": 27,
     "metadata": {},
     "output_type": "execute_result"
    }
   ],
   "source": [
    "# Create dataframe from csv train and test data\n",
    "train = pd.read_csv('Case3/data/drugsComTrain_raw.csv')\n",
    "test = pd.read_csv('Case3/data/drugsComTest_raw.csv')\n",
    "\n",
    "#show first rows from train set\n",
    "train.head()"
   ]
  },
  {
   "cell_type": "markdown",
   "metadata": {},
   "source": [
    "# Hyperparameters"
   ]
  },
  {
   "cell_type": "code",
   "execution_count": 28,
   "metadata": {},
   "outputs": [],
   "source": [
    "num_of_data = 50000\n",
    "num_of_epochs = 40\n",
    "batch_size = 100\n",
    "max_length = 50\n",
    "num_of_words = 1000\n",
    "dimension_of_embedding = 8"
   ]
  },
  {
   "cell_type": "code",
   "execution_count": 29,
   "metadata": {},
   "outputs": [
    {
     "data": {
      "text/html": [
       "<div>\n",
       "<style scoped>\n",
       "    .dataframe tbody tr th:only-of-type {\n",
       "        vertical-align: middle;\n",
       "    }\n",
       "\n",
       "    .dataframe tbody tr th {\n",
       "        vertical-align: top;\n",
       "    }\n",
       "\n",
       "    .dataframe thead th {\n",
       "        text-align: right;\n",
       "    }\n",
       "</style>\n",
       "<table border=\"1\" class=\"dataframe\">\n",
       "  <thead>\n",
       "    <tr style=\"text-align: right;\">\n",
       "      <th></th>\n",
       "      <th>uniqueID</th>\n",
       "      <th>drugName</th>\n",
       "      <th>condition</th>\n",
       "      <th>review</th>\n",
       "      <th>rating</th>\n",
       "      <th>date</th>\n",
       "      <th>usefulCount</th>\n",
       "    </tr>\n",
       "  </thead>\n",
       "  <tbody>\n",
       "    <tr>\n",
       "      <th>0</th>\n",
       "      <td>163740</td>\n",
       "      <td>Mirtazapine</td>\n",
       "      <td>Depression</td>\n",
       "      <td>\"I&amp;#039;ve tried a few antidepressants over th...</td>\n",
       "      <td>10</td>\n",
       "      <td>28-Feb-12</td>\n",
       "      <td>22</td>\n",
       "    </tr>\n",
       "    <tr>\n",
       "      <th>1</th>\n",
       "      <td>206473</td>\n",
       "      <td>Mesalamine</td>\n",
       "      <td>Crohn's Disease, Maintenance</td>\n",
       "      <td>\"My son has Crohn&amp;#039;s disease and has done ...</td>\n",
       "      <td>8</td>\n",
       "      <td>17-May-09</td>\n",
       "      <td>17</td>\n",
       "    </tr>\n",
       "    <tr>\n",
       "      <th>2</th>\n",
       "      <td>159672</td>\n",
       "      <td>Bactrim</td>\n",
       "      <td>Urinary Tract Infection</td>\n",
       "      <td>\"Quick reduction of symptoms\"</td>\n",
       "      <td>9</td>\n",
       "      <td>29-Sep-17</td>\n",
       "      <td>3</td>\n",
       "    </tr>\n",
       "    <tr>\n",
       "      <th>3</th>\n",
       "      <td>39293</td>\n",
       "      <td>Contrave</td>\n",
       "      <td>Weight Loss</td>\n",
       "      <td>\"Contrave combines drugs that were used for al...</td>\n",
       "      <td>9</td>\n",
       "      <td>5-Mar-17</td>\n",
       "      <td>35</td>\n",
       "    </tr>\n",
       "    <tr>\n",
       "      <th>4</th>\n",
       "      <td>97768</td>\n",
       "      <td>Cyclafem 1 / 35</td>\n",
       "      <td>Birth Control</td>\n",
       "      <td>\"I have been on this birth control for one cyc...</td>\n",
       "      <td>9</td>\n",
       "      <td>22-Oct-15</td>\n",
       "      <td>4</td>\n",
       "    </tr>\n",
       "  </tbody>\n",
       "</table>\n",
       "</div>"
      ],
      "text/plain": [
       "   uniqueID         drugName                     condition  \\\n",
       "0    163740      Mirtazapine                    Depression   \n",
       "1    206473       Mesalamine  Crohn's Disease, Maintenance   \n",
       "2    159672          Bactrim       Urinary Tract Infection   \n",
       "3     39293         Contrave                   Weight Loss   \n",
       "4     97768  Cyclafem 1 / 35                 Birth Control   \n",
       "\n",
       "                                              review  rating       date  \\\n",
       "0  \"I&#039;ve tried a few antidepressants over th...      10  28-Feb-12   \n",
       "1  \"My son has Crohn&#039;s disease and has done ...       8  17-May-09   \n",
       "2                      \"Quick reduction of symptoms\"       9  29-Sep-17   \n",
       "3  \"Contrave combines drugs that were used for al...       9   5-Mar-17   \n",
       "4  \"I have been on this birth control for one cyc...       9  22-Oct-15   \n",
       "\n",
       "   usefulCount  \n",
       "0           22  \n",
       "1           17  \n",
       "2            3  \n",
       "3           35  \n",
       "4            4  "
      ]
     },
     "execution_count": 29,
     "metadata": {},
     "output_type": "execute_result"
    }
   ],
   "source": [
    "#show first rows from test set\n",
    "test.head()"
   ]
  },
  {
   "cell_type": "code",
   "execution_count": 30,
   "metadata": {},
   "outputs": [],
   "source": [
    "#Prepare training data\n",
    "\n",
    "samples = train['review'].iloc[:num_of_data]\n",
    "tokenizer = Tokenizer(num_words = num_of_words)\n",
    "tokenizer.fit_on_texts(samples)\n",
    "\n",
    "data = tokenizer.texts_to_sequences(samples)\n",
    "\n",
    "data = pad_sequences(data, maxlen = max_length)\n"
   ]
  },
  {
   "cell_type": "code",
   "execution_count": 31,
   "metadata": {},
   "outputs": [
    {
     "name": "stdout",
     "output_type": "stream",
     "text": [
      "0     1\n",
      "1     1\n",
      "2     0\n",
      "3     1\n",
      "4     1\n",
      "5    -1\n",
      "6    -1\n",
      "7     1\n",
      "8    -1\n",
      "9     1\n",
      "10    1\n",
      "11    1\n",
      "12   -1\n",
      "13   -1\n",
      "14   -1\n",
      "15    1\n",
      "16    1\n",
      "17    1\n",
      "18    1\n",
      "19    1\n",
      "Name: rating, dtype: int32\n",
      "{0: 1.3245383983681687, 1: 3.821753420469311, 2: 0.5041949015811552}\n"
     ]
    }
   ],
   "source": [
    "r = train['rating'].iloc[:num_of_data]\n",
    "labels = -1*(r <= 4) + 1*(r >= 7)\n",
    "print(labels.head(20))\n",
    "\n",
    "one_hot_labels = to_categorical(labels, num_classes = 3)\n",
    "\n",
    "\n",
    "#Class Wights\n",
    "class_weight = compute_class_weight('balanced', [-1,0,1], labels)\n",
    "\n",
    "weights = {0:class_weight[0], 1:class_weight[1], 2:class_weight[2]}\n",
    "print(weights)"
   ]
  },
  {
   "cell_type": "markdown",
   "metadata": {},
   "source": [
    "# Explorer data\n",
    "checking some basic information about data*"
   ]
  },
  {
   "cell_type": "code",
   "execution_count": 32,
   "metadata": {},
   "outputs": [
    {
     "data": {
      "text/plain": [
       "True"
      ]
     },
     "execution_count": 32,
     "metadata": {},
     "output_type": "execute_result"
    }
   ],
   "source": [
    "#check that colum names are same at train set and test set\n",
    "list(train) == list(test)"
   ]
  },
  {
   "cell_type": "code",
   "execution_count": 33,
   "metadata": {},
   "outputs": [
    {
     "name": "stdout",
     "output_type": "stream",
     "text": [
      "Rows in train set: 161297\n",
      "Rows in test set: 53766\n",
      "Ratio (train:test) = 3.000\n"
     ]
    }
   ],
   "source": [
    "# How many rows are there in train and test sets?\n",
    "rows_train = train.values.shape[0]\n",
    "rows_test = test.values.shape[0]\n",
    "print('Rows in train set:', rows_train)\n",
    "print('Rows in test set:', rows_test)\n",
    "\n",
    "# What is the ratio of the train and test set sizes?\n",
    "ratio = rows_train/rows_test\n",
    "print('Ratio (train:test) = {:.3f}'.format(ratio))"
   ]
  },
  {
   "cell_type": "code",
   "execution_count": 34,
   "metadata": {},
   "outputs": [
    {
     "data": {
      "text/plain": [
       "(885, 709)"
      ]
     },
     "execution_count": 34,
     "metadata": {},
     "output_type": "execute_result"
    }
   ],
   "source": [
    "# How many unique medical conditions there are?\n",
    "train['condition'].unique().size, test['condition'].unique().size"
   ]
  },
  {
   "cell_type": "code",
   "execution_count": 35,
   "metadata": {},
   "outputs": [
    {
     "data": {
      "text/plain": [
       "(3436, 2637)"
      ]
     },
     "execution_count": 35,
     "metadata": {},
     "output_type": "execute_result"
    }
   ],
   "source": [
    "# How many drug names there are?\n",
    "train['drugName'].unique().size, test['drugName'].unique().size"
   ]
  },
  {
   "cell_type": "code",
   "execution_count": 36,
   "metadata": {},
   "outputs": [
    {
     "data": {
      "text/plain": [
       "Birth Control      28788\n",
       "Depression          9069\n",
       "Pain                6145\n",
       "Anxiety             5904\n",
       "Acne                5588\n",
       "Bipolar Disorde     4224\n",
       "Insomnia            3673\n",
       "Weight Loss         3609\n",
       "Obesity             3568\n",
       "ADHD                3383\n",
       "Name: condition, dtype: int64"
      ]
     },
     "execution_count": 36,
     "metadata": {},
     "output_type": "execute_result"
    }
   ],
   "source": [
    "# What are the most common medical conditions?\n",
    "conditions = train['condition'].value_counts().sort_values(ascending=False)\n",
    "conditions[:10]"
   ]
  },
  {
   "cell_type": "markdown",
   "metadata": {},
   "source": [
    "# Plot data"
   ]
  },
  {
   "cell_type": "code",
   "execution_count": 37,
   "metadata": {},
   "outputs": [],
   "source": [
    "from matplotlib import pyplot, pylab\n",
    "\n",
    "plt = pyplot\n",
    "%matplotlib inline"
   ]
  },
  {
   "cell_type": "code",
   "execution_count": 38,
   "metadata": {},
   "outputs": [
    {
     "data": {
      "image/png": "[encoded data removed]",
      "text/plain": [
       "<Figure size 864x576 with 1 Axes>"
      ]
     },
     "metadata": {
      "needs_background": "light"
     },
     "output_type": "display_data"
    }
   ],
   "source": [
    "# Change the default figure size\n",
    "plt.rcParams['figure.figsize'] = [12, 8]\n",
    "\n",
    "# Plot the most common medical conditions\n",
    "conditions[:10].plot(kind='bar', rot = 30)\n",
    "plt.title('Most common medical conditions')\n",
    "plt.xlabel('Condition')\n",
    "plt.ylabel('Count')\n",
    "plt.grid()\n",
    "plt.show()"
   ]
  },
  {
   "cell_type": "code",
   "execution_count": 39,
   "metadata": {},
   "outputs": [
    {
     "data": {
      "image/png": "[encoded data removed]",
      "text/plain": [
       "<Figure size 864x576 with 1 Axes>"
      ]
     },
     "metadata": {
      "needs_background": "light"
     },
     "output_type": "display_data"
    }
   ],
   "source": [
    "# How are the ratings distributed?\n",
    "train['rating'].hist(color='skyblue', bins = range(1, 12), align = 'left')\n",
    "plt.title('Distribution of ratings')\n",
    "plt.xlabel('Rating')\n",
    "plt.ylabel('Count')\n",
    "plt.xticks(range(1, 11))\n",
    "plt.show()"
   ]
  },
  {
   "cell_type": "code",
   "execution_count": 40,
   "metadata": {},
   "outputs": [
    {
     "data": {
      "image/png": "[encoded data removed]",
      "text/plain": [
       "<Figure size 864x576 with 1 Axes>"
      ]
     },
     "metadata": {
      "needs_background": "light"
     },
     "output_type": "display_data"
    }
   ],
   "source": [
    "# What is the average rating grouped by the drug name?\n",
    "rating_avgs = (train['rating'].groupby(train['drugName']).mean())\n",
    "rating_avgs.hist(color='skyblue', bins = range(1, 12), align = 'left')\n",
    "plt.title('Distribution of average drug ratings')\n",
    "plt.xlabel('Rating')\n",
    "plt.ylabel('Count')\n",
    "plt.xticks(range(1, 11))\n",
    "plt.show()"
   ]
  },
  {
   "cell_type": "code",
   "execution_count": 41,
   "metadata": {},
   "outputs": [
    {
     "data": {
      "image/png": "[encoded data removed]",
      "text/plain": [
       "<Figure size 864x576 with 1 Axes>"
      ]
     },
     "metadata": {
      "needs_background": "light"
     },
     "output_type": "display_data"
    }
   ],
   "source": [
    "# What is the average rating grouped by the condition?\n",
    "rating_avgs = (train['rating'].groupby(train['condition']).mean())\n",
    "rating_avgs.hist(color='skyblue', bins = range(1, 12), align = 'left')\n",
    "plt.title('Averages of medication reviews for each disease')\n",
    "plt.xlabel('Rating')\n",
    "plt.ylabel('Count')\n",
    "plt.xticks(range(1, 11))\n",
    "plt.show()"
   ]
  },
  {
   "cell_type": "code",
   "execution_count": 42,
   "metadata": {},
   "outputs": [
    {
     "data": {
      "image/png": "[encoded data removed]",
      "text/plain": [
       "<Figure size 864x576 with 1 Axes>"
      ]
     },
     "metadata": {
      "needs_background": "light"
     },
     "output_type": "display_data"
    }
   ],
   "source": [
    "# How the usefullness is distributed by rating?\n",
    "boxplot = train.boxplot(column = 'usefulCount',by = 'rating')"
   ]
  },
  {
   "cell_type": "code",
   "execution_count": 43,
   "metadata": {},
   "outputs": [
    {
     "data": {
      "image/png": "[encoded data removed]",
      "text/plain": [
       "<Figure size 864x576 with 1 Axes>"
      ]
     },
     "metadata": {
      "needs_background": "light"
     },
     "output_type": "display_data"
    }
   ],
   "source": [
    "# What is the average usefullness count by rating?\n",
    "train.groupby('rating')['usefulCount'].mean().plot(style = 'o:')\n",
    "plt.ylabel('Average usefullness count')\n",
    "plt.title('Average usefullness count grouped by rating')\n",
    "plt.grid()\n",
    "plt.show()"
   ]
  },
  {
   "cell_type": "code",
   "execution_count": 44,
   "metadata": {},
   "outputs": [
    {
     "data": {
      "text/html": [
       "<div>\n",
       "<style scoped>\n",
       "    .dataframe tbody tr th:only-of-type {\n",
       "        vertical-align: middle;\n",
       "    }\n",
       "\n",
       "    .dataframe tbody tr th {\n",
       "        vertical-align: top;\n",
       "    }\n",
       "\n",
       "    .dataframe thead th {\n",
       "        text-align: right;\n",
       "    }\n",
       "</style>\n",
       "<table border=\"1\" class=\"dataframe\">\n",
       "  <thead>\n",
       "    <tr style=\"text-align: right;\">\n",
       "      <th></th>\n",
       "      <th>uniqueID</th>\n",
       "      <th>drugName</th>\n",
       "      <th>condition</th>\n",
       "      <th>review</th>\n",
       "      <th>rating</th>\n",
       "      <th>date</th>\n",
       "      <th>usefulCount</th>\n",
       "    </tr>\n",
       "  </thead>\n",
       "  <tbody>\n",
       "    <tr>\n",
       "      <th>6716</th>\n",
       "      <td>96616</td>\n",
       "      <td>Sertraline</td>\n",
       "      <td>Depression</td>\n",
       "      <td>\"I remember reading people&amp;#039;s opinions, on...</td>\n",
       "      <td>10</td>\n",
       "      <td>31-Jul-08</td>\n",
       "      <td>1291</td>\n",
       "    </tr>\n",
       "    <tr>\n",
       "      <th>33552</th>\n",
       "      <td>119152</td>\n",
       "      <td>Zoloft</td>\n",
       "      <td>Depression</td>\n",
       "      <td>\"I remember reading people&amp;#039;s opinions, on...</td>\n",
       "      <td>10</td>\n",
       "      <td>31-Jul-08</td>\n",
       "      <td>1291</td>\n",
       "    </tr>\n",
       "    <tr>\n",
       "      <th>21708</th>\n",
       "      <td>131116</td>\n",
       "      <td>Levonorgestrel</td>\n",
       "      <td>Birth Control</td>\n",
       "      <td>\"I have had my IUD for over a year now and I t...</td>\n",
       "      <td>10</td>\n",
       "      <td>1-Apr-09</td>\n",
       "      <td>1247</td>\n",
       "    </tr>\n",
       "    <tr>\n",
       "      <th>4249</th>\n",
       "      <td>182560</td>\n",
       "      <td>Mirena</td>\n",
       "      <td>Birth Control</td>\n",
       "      <td>\"I have had my IUD for over a year now and I t...</td>\n",
       "      <td>10</td>\n",
       "      <td>1-Apr-09</td>\n",
       "      <td>1247</td>\n",
       "    </tr>\n",
       "    <tr>\n",
       "      <th>146145</th>\n",
       "      <td>119151</td>\n",
       "      <td>Zoloft</td>\n",
       "      <td>Depression</td>\n",
       "      <td>\"I&amp;#039;ve been on Zoloft 50mg for over two ye...</td>\n",
       "      <td>9</td>\n",
       "      <td>5-Aug-08</td>\n",
       "      <td>949</td>\n",
       "    </tr>\n",
       "    <tr>\n",
       "      <th>58608</th>\n",
       "      <td>139141</td>\n",
       "      <td>Phentermine</td>\n",
       "      <td>Weight Loss</td>\n",
       "      <td>\"I have used this pill off and on for the past...</td>\n",
       "      <td>10</td>\n",
       "      <td>19-Oct-08</td>\n",
       "      <td>796</td>\n",
       "    </tr>\n",
       "    <tr>\n",
       "      <th>16889</th>\n",
       "      <td>52305</td>\n",
       "      <td>Adipex-P</td>\n",
       "      <td>Weight Loss</td>\n",
       "      <td>\"I have used this pill off and on for the past...</td>\n",
       "      <td>10</td>\n",
       "      <td>19-Oct-08</td>\n",
       "      <td>796</td>\n",
       "    </tr>\n",
       "    <tr>\n",
       "      <th>2039</th>\n",
       "      <td>62757</td>\n",
       "      <td>Citalopram</td>\n",
       "      <td>Depression</td>\n",
       "      <td>\"I responded after one week. The side effects ...</td>\n",
       "      <td>8</td>\n",
       "      <td>25-Mar-08</td>\n",
       "      <td>771</td>\n",
       "    </tr>\n",
       "    <tr>\n",
       "      <th>152838</th>\n",
       "      <td>89825</td>\n",
       "      <td>Celexa</td>\n",
       "      <td>Depression</td>\n",
       "      <td>\"I responded after one week. The side effects ...</td>\n",
       "      <td>8</td>\n",
       "      <td>25-Mar-08</td>\n",
       "      <td>771</td>\n",
       "    </tr>\n",
       "    <tr>\n",
       "      <th>5218</th>\n",
       "      <td>107655</td>\n",
       "      <td>Implanon</td>\n",
       "      <td>Birth Control</td>\n",
       "      <td>\"I was very nervous about trying Implanon afte...</td>\n",
       "      <td>10</td>\n",
       "      <td>19-Jul-10</td>\n",
       "      <td>730</td>\n",
       "    </tr>\n",
       "  </tbody>\n",
       "</table>\n",
       "</div>"
      ],
      "text/plain": [
       "        uniqueID        drugName      condition  \\\n",
       "6716       96616      Sertraline     Depression   \n",
       "33552     119152          Zoloft     Depression   \n",
       "21708     131116  Levonorgestrel  Birth Control   \n",
       "4249      182560          Mirena  Birth Control   \n",
       "146145    119151          Zoloft     Depression   \n",
       "58608     139141     Phentermine    Weight Loss   \n",
       "16889      52305        Adipex-P    Weight Loss   \n",
       "2039       62757      Citalopram     Depression   \n",
       "152838     89825          Celexa     Depression   \n",
       "5218      107655        Implanon  Birth Control   \n",
       "\n",
       "                                                   review  rating       date  \\\n",
       "6716    \"I remember reading people&#039;s opinions, on...      10  31-Jul-08   \n",
       "33552   \"I remember reading people&#039;s opinions, on...      10  31-Jul-08   \n",
       "21708   \"I have had my IUD for over a year now and I t...      10   1-Apr-09   \n",
       "4249    \"I have had my IUD for over a year now and I t...      10   1-Apr-09   \n",
       "146145  \"I&#039;ve been on Zoloft 50mg for over two ye...       9   5-Aug-08   \n",
       "58608   \"I have used this pill off and on for the past...      10  19-Oct-08   \n",
       "16889   \"I have used this pill off and on for the past...      10  19-Oct-08   \n",
       "2039    \"I responded after one week. The side effects ...       8  25-Mar-08   \n",
       "152838  \"I responded after one week. The side effects ...       8  25-Mar-08   \n",
       "5218    \"I was very nervous about trying Implanon afte...      10  19-Jul-10   \n",
       "\n",
       "        usefulCount  \n",
       "6716           1291  \n",
       "33552          1291  \n",
       "21708          1247  \n",
       "4249           1247  \n",
       "146145          949  \n",
       "58608           796  \n",
       "16889           796  \n",
       "2039            771  \n",
       "152838          771  \n",
       "5218            730  "
      ]
     },
     "execution_count": 44,
     "metadata": {},
     "output_type": "execute_result"
    }
   ],
   "source": [
    "# What were the most useful reviews?\n",
    "useful_train = train.sort_values(by='usefulCount', ascending=False)\n",
    "useful_train.iloc[:10]"
   ]
  },
  {
   "cell_type": "markdown",
   "metadata": {},
   "source": []
  },
  {
   "cell_type": "markdown",
   "metadata": {},
   "source": [
    "# Classification with scikit-learn"
   ]
  },
  {
   "cell_type": "code",
   "execution_count": 47,
   "metadata": {},
   "outputs": [],
   "source": [
    "# Import libraries\n",
    "import time\n",
    "from sklearn.feature_extraction.text import TfidfVectorizer\n",
    "from sklearn.metrics import confusion_matrix\n",
    "from sklearn.naive_bayes import MultinomialNB\n",
    "from sklearn.ensemble import RandomForestClassifier"
   ]
  },
  {
   "cell_type": "code",
   "execution_count": 48,
   "metadata": {},
   "outputs": [
    {
     "name": "stdout",
     "output_type": "stream",
     "text": [
      "Accuracy: 0.702\n",
      "Confusion Matrix\n",
      "[[  18    1]\n",
      " [1489 3492]]\n"
     ]
    }
   ],
   "source": [
    "# Creates TF-IDF vectorizer and transforms the corpus\n",
    "vectorizer = TfidfVectorizer()\n",
    "X_train = vectorizer.fit_transform(train['review'].iloc[:10000])\n",
    "\n",
    "# transforms test reviews to above vectorized format\n",
    "X_test = vectorizer.transform(test['review'].iloc[:5000])\n",
    "\n",
    "# Create a column with binary rating indicating the polarity of a review\n",
    "train['binary_rating'] = train['rating'] > 5\n",
    "y_train_rating = train['binary_rating'].iloc[:10000]\n",
    "\n",
    "test['binary_rating'] = test.rating > 5\n",
    "y_test_rating = test['binary_rating'].iloc[:5000]\n",
    "\n",
    "# Use Naive Bayes classifier\n",
    "clf = MultinomialNB().fit(X_train, y_train_rating)\n",
    "\n",
    "# Evaluate the model\n",
    "pred = clf.predict(X_test)\n",
    "\n",
    "print(\"Accuracy: {:.3f}\".format(clf.score(X_test, y_test_rating)))\n",
    "print(\"Confusion Matrix\")\n",
    "print(confusion_matrix(pred, y_test_rating))"
   ]
  },
  {
   "cell_type": "code",
   "execution_count": 49,
   "metadata": {},
   "outputs": [
    {
     "name": "stdout",
     "output_type": "stream",
     "text": [
      "Training time: 7 seconds.\n",
      "Accuracy: 0.747\n",
      "Confusion Matrix\n",
      "[[ 275   31]\n",
      " [1232 3462]]\n"
     ]
    }
   ],
   "source": [
    "# Use random forest classifier\n",
    "start = time.time()\n",
    "rfc_rating = RandomForestClassifier(n_estimators = 100, \n",
    "                                    random_state = 42, \n",
    "                                    max_depth = 10000, \n",
    "                                    min_samples_split = 0.001)\n",
    "rfc_rating.fit(X_train, y_train_rating)\n",
    "end = time.time()\n",
    "print(\"Training time: {:.0f} seconds.\".format(end-start))\n",
    "\n",
    "# Evaluate the model\n",
    "pred = rfc_rating.predict(X_test)\n",
    "\n",
    "print(\"Accuracy: {:.3f}\".format(rfc_rating.score(X_test, y_test_rating)))\n",
    "print(\"Confusion Matrix\")\n",
    "print(confusion_matrix(pred, y_test_rating))"
   ]
  },
  {
   "cell_type": "markdown",
   "metadata": {},
   "source": [
    "# Classification\n",
    "Using keras for classification funciton"
   ]
  },
  {
   "cell_type": "code",
   "execution_count": 50,
   "metadata": {},
   "outputs": [],
   "source": [
    "# Split into training and validation sets\n",
    "from sklearn.model_selection import train_test_split\n",
    "\n",
    "x_train, x_valid, y_train, y_valid = train_test_split(data, one_hot_labels,\n",
    "                                    test_size = 0.3, random_state = 2019)\n",
    "\n",
    "x_valid, x_test, y_valid, y_test = train_test_split(x_valid, y_valid,\n",
    "                                    test_size = 0.5, random_state = 2019)"
   ]
  },
  {
   "cell_type": "code",
   "execution_count": 51,
   "metadata": {},
   "outputs": [
    {
     "name": "stdout",
     "output_type": "stream",
     "text": [
      "WARNING:tensorflow:From C:\\anaconda\\envs\\py36\\lib\\site-packages\\tensorflow\\python\\framework\\op_def_library.py:263: colocate_with (from tensorflow.python.framework.ops) is deprecated and will be removed in a future version.\n",
      "Instructions for updating:\n",
      "Colocations handled automatically by placer.\n",
      "WARNING:tensorflow:From C:\\anaconda\\envs\\py36\\lib\\site-packages\\keras\\backend\\tensorflow_backend.py:3445: calling dropout (from tensorflow.python.ops.nn_ops) with keep_prob is deprecated and will be removed in a future version.\n",
      "Instructions for updating:\n",
      "Please use `rate` instead of `keep_prob`. Rate should be set to `rate = 1 - keep_prob`.\n",
      "_________________________________________________________________\n",
      "Layer (type)                 Output Shape              Param #   \n",
      "=================================================================\n",
      "embedding_1 (Embedding)      (None, 50, 50)            50000     \n",
      "_________________________________________________________________\n",
      "lstm_1 (LSTM)                (None, 50, 32)            10624     \n",
      "_________________________________________________________________\n",
      "dropout_1 (Dropout)          (None, 50, 32)            0         \n",
      "_________________________________________________________________\n",
      "lstm_2 (LSTM)                (None, 50, 32)            8320      \n",
      "_________________________________________________________________\n",
      "dropout_2 (Dropout)          (None, 50, 32)            0         \n",
      "_________________________________________________________________\n",
      "lstm_3 (LSTM)                (None, 8)                 1312      \n",
      "_________________________________________________________________\n",
      "dense_1 (Dense)              (None, 12)                108       \n",
      "_________________________________________________________________\n",
      "dropout_3 (Dropout)          (None, 12)                0         \n",
      "_________________________________________________________________\n",
      "dense_2 (Dense)              (None, 3)                 39        \n",
      "_________________________________________________________________\n",
      "activation_1 (Activation)    (None, 3)                 0         \n",
      "=================================================================\n",
      "Total params: 70,403\n",
      "Trainable params: 70,403\n",
      "Non-trainable params: 0\n",
      "_________________________________________________________________\n"
     ]
    }
   ],
   "source": [
    "# Create a simple sequential model\n",
    "from keras.models import Sequential\n",
    "from keras.layers import Dense, Activation\n",
    "\n",
    "model = Sequential()\n",
    "\n",
    "model.add(Embedding(num_of_words, 50,\n",
    "                    input_length = max_length))\n",
    "\n",
    "model.add(LSTM(32,return_sequences=True))\n",
    "model.add(Dropout(0.4))\n",
    "model.add(LSTM(32,return_sequences=True))\n",
    "model.add(Dropout(0.1))\n",
    "model.add(LSTM(8))\n",
    "model.add(Dense(12))\n",
    "model.add(Dropout(0.2))\n",
    "\n",
    "model.add(Dense(3))\n",
    "model.add(Activation('softmax'))\n",
    "model.compile(optimizer = 'Adam', loss = 'categorical_crossentropy', metrics = ['acc'])\n",
    "model.summary()"
   ]
  },
  {
   "cell_type": "code",
   "execution_count": 53,
   "metadata": {},
   "outputs": [
    {
     "name": "stdout",
     "output_type": "stream",
     "text": [
      "WARNING:tensorflow:From C:\\anaconda\\envs\\py36\\lib\\site-packages\\tensorflow\\python\\ops\\math_ops.py:3066: to_int32 (from tensorflow.python.ops.math_ops) is deprecated and will be removed in a future version.\n",
      "Instructions for updating:\n",
      "Use tf.cast instead.\n",
      "Train on 35000 samples, validate on 7500 samples\n",
      "Epoch 1/40\n",
      " - 24s - loss: 0.7315 - acc: 0.7186 - val_loss: 0.6582 - val_acc: 0.7463\n",
      "Epoch 2/40\n",
      " - 22s - loss: 0.6367 - acc: 0.7591 - val_loss: 0.6414 - val_acc: 0.7475\n",
      "Epoch 3/40\n",
      " - 22s - loss: 0.6108 - acc: 0.7701 - val_loss: 0.6346 - val_acc: 0.7495\n",
      "Epoch 4/40\n",
      " - 22s - loss: 0.5910 - acc: 0.7765 - val_loss: 0.6416 - val_acc: 0.7504\n",
      "Epoch 5/40\n",
      " - 23s - loss: 0.5726 - acc: 0.7847 - val_loss: 0.6300 - val_acc: 0.7533\n",
      "Epoch 6/40\n",
      " - 22s - loss: 0.5583 - acc: 0.7889 - val_loss: 0.6315 - val_acc: 0.7540\n",
      "Epoch 7/40\n",
      " - 22s - loss: 0.5452 - acc: 0.7942 - val_loss: 0.6381 - val_acc: 0.7507\n",
      "Epoch 8/40\n",
      " - 23s - loss: 0.5357 - acc: 0.7985 - val_loss: 0.6399 - val_acc: 0.7585\n",
      "Epoch 9/40\n",
      " - 22s - loss: 0.5233 - acc: 0.8031 - val_loss: 0.6307 - val_acc: 0.7579\n",
      "Epoch 10/40\n",
      " - 23s - loss: 0.5132 - acc: 0.8072 - val_loss: 0.6336 - val_acc: 0.7560\n",
      "Epoch 11/40\n",
      " - 22s - loss: 0.5028 - acc: 0.8118 - val_loss: 0.6329 - val_acc: 0.7537\n",
      "Epoch 12/40\n",
      " - 22s - loss: 0.4913 - acc: 0.8161 - val_loss: 0.6410 - val_acc: 0.7608\n",
      "Epoch 13/40\n",
      " - 22s - loss: 0.4800 - acc: 0.8203 - val_loss: 0.6515 - val_acc: 0.7588\n",
      "Epoch 14/40\n",
      " - 22s - loss: 0.4711 - acc: 0.8247 - val_loss: 0.6509 - val_acc: 0.7591\n",
      "Epoch 15/40\n",
      " - 23s - loss: 0.4612 - acc: 0.8285 - val_loss: 0.6708 - val_acc: 0.7569\n",
      "Epoch 16/40\n",
      " - 22s - loss: 0.4497 - acc: 0.8344 - val_loss: 0.6826 - val_acc: 0.7527\n",
      "Epoch 17/40\n",
      " - 22s - loss: 0.4428 - acc: 0.8370 - val_loss: 0.6783 - val_acc: 0.7515\n",
      "Epoch 18/40\n",
      " - 23s - loss: 0.4309 - acc: 0.8397 - val_loss: 0.6842 - val_acc: 0.7475\n",
      "Epoch 19/40\n",
      " - 22s - loss: 0.4201 - acc: 0.8453 - val_loss: 0.7049 - val_acc: 0.7496\n",
      "Epoch 20/40\n",
      " - 22s - loss: 0.4105 - acc: 0.8489 - val_loss: 0.7028 - val_acc: 0.7465\n",
      "Epoch 21/40\n",
      " - 22s - loss: 0.4039 - acc: 0.8511 - val_loss: 0.7092 - val_acc: 0.7543\n",
      "Epoch 22/40\n",
      " - 22s - loss: 0.3917 - acc: 0.8575 - val_loss: 0.7439 - val_acc: 0.7445\n",
      "Epoch 23/40\n",
      " - 23s - loss: 0.3870 - acc: 0.8578 - val_loss: 0.7470 - val_acc: 0.7440\n",
      "Epoch 24/40\n",
      " - 22s - loss: 0.3781 - acc: 0.8607 - val_loss: 0.7418 - val_acc: 0.7491\n",
      "Epoch 25/40\n",
      " - 23s - loss: 0.3690 - acc: 0.8645 - val_loss: 0.7808 - val_acc: 0.7423\n",
      "Epoch 26/40\n",
      " - 24s - loss: 0.3604 - acc: 0.8675 - val_loss: 0.7506 - val_acc: 0.7437\n",
      "Epoch 27/40\n",
      " - 24s - loss: 0.3514 - acc: 0.8722 - val_loss: 0.8025 - val_acc: 0.7512\n",
      "Epoch 28/40\n",
      " - 25s - loss: 0.3393 - acc: 0.8759 - val_loss: 0.8323 - val_acc: 0.7428\n",
      "Epoch 29/40\n",
      " - 27s - loss: 0.3374 - acc: 0.8764 - val_loss: 0.8070 - val_acc: 0.7455\n",
      "Epoch 30/40\n",
      " - 28s - loss: 0.3296 - acc: 0.8799 - val_loss: 0.8333 - val_acc: 0.7455\n",
      "Epoch 31/40\n",
      " - 25s - loss: 0.3184 - acc: 0.8828 - val_loss: 0.8502 - val_acc: 0.7405\n",
      "Epoch 32/40\n",
      " - 24s - loss: 0.3152 - acc: 0.8841 - val_loss: 0.8356 - val_acc: 0.7411\n",
      "Epoch 33/40\n",
      " - 23s - loss: 0.3054 - acc: 0.8880 - val_loss: 0.8660 - val_acc: 0.7364\n",
      "Epoch 34/40\n",
      " - 23s - loss: 0.2976 - acc: 0.8902 - val_loss: 0.8532 - val_acc: 0.7401\n",
      "Epoch 35/40\n",
      " - 23s - loss: 0.2949 - acc: 0.8930 - val_loss: 0.8809 - val_acc: 0.7416\n",
      "Epoch 36/40\n",
      " - 23s - loss: 0.2872 - acc: 0.8956 - val_loss: 0.8945 - val_acc: 0.7391\n",
      "Epoch 37/40\n",
      " - 25s - loss: 0.2811 - acc: 0.8967 - val_loss: 0.9144 - val_acc: 0.7372\n",
      "Epoch 38/40\n",
      " - 22s - loss: 0.2718 - acc: 0.8997 - val_loss: 0.9133 - val_acc: 0.7245\n",
      "Epoch 39/40\n",
      " - 22s - loss: 0.2640 - acc: 0.9044 - val_loss: 0.9240 - val_acc: 0.7316\n",
      "Epoch 40/40\n",
      " - 23s - loss: 0.2644 - acc: 0.9038 - val_loss: 0.9305 - val_acc: 0.7376\n"
     ]
    }
   ],
   "source": [
    "history = model.fit(x_train, y_train, \n",
    "                    epochs = num_of_epochs, \n",
    "                    batch_size = batch_size,\n",
    "                    verbose = 2,\n",
    "                    validation_data = (x_valid, y_valid))"
   ]
  },
  {
   "cell_type": "code",
   "execution_count": 54,
   "metadata": {},
   "outputs": [
    {
     "data": {
      "image/png": "[encoded data removed]",
      "text/plain": [
       "<Figure size 720x288 with 1 Axes>"
      ]
     },
     "metadata": {
      "needs_background": "light"
     },
     "output_type": "display_data"
    },
    {
     "data": {
      "image/png": "[encoded data removed]",
      "text/plain": [
       "<Figure size 720x288 with 1 Axes>"
      ]
     },
     "metadata": {
      "needs_background": "light"
     },
     "output_type": "display_data"
    }
   ],
   "source": [
    "# Plot the accuracy and loss\n",
    "val_loss = history.history['val_loss']\n",
    "val_acc = history.history['val_acc']\n",
    "train_loss = history.history['loss']\n",
    "train_acc = history.history['acc']\n",
    "\n",
    "plt.figure(figsize=(10,4))\n",
    "plt.ylim(0,1)\n",
    "plt.plot(train_loss, 'b', label='Training loss')\n",
    "plt.plot(val_loss, 'r', label='Validation loss')\n",
    "plt.xlabel('Epochs')\n",
    "plt.ylabel('Loss')\n",
    "plt.legend()\n",
    "plt.show()\n",
    "\n",
    "plt.figure(figsize=(10,4))\n",
    "plt.ylim(0,1)\n",
    "plt.plot(train_acc, 'b', label='Training Accuracy')\n",
    "plt.plot(val_acc, 'r', label='Validation Accuracy')\n",
    "plt.xlabel('Epochs')\n",
    "plt.ylabel('Accuracy')\n",
    "plt.legend()\n",
    "plt.show()"
   ]
  },
  {
   "cell_type": "markdown",
   "metadata": {},
   "source": [
    "# Conclusion\n"
   ]
  },
  {
   "cell_type": "markdown",
   "metadata": {},
   "source": [
    "It was quite hard mission to get high validation accuracy and at the end whole code seems like mess after all tries to get code wroking properly\n",
    "\n",
    "I heard that there could be a pre trained model which could be give more accurate result but i dont have time to find that. \n"
   ]
  },
  {
   "cell_type": "code",
   "execution_count": null,
   "metadata": {},
   "outputs": [],
   "source": []
  }
 ],
 "metadata": {
  "kernelspec": {
   "display_name": "Python 3",
   "language": "python",
   "name": "python3"
  },
  "language_info": {
   "codemirror_mode": {
    "name": "ipython",
    "version": 3
   },
   "file_extension": ".py",
   "mimetype": "text/x-python",
   "name": "python",
   "nbconvert_exporter": "python",
   "pygments_lexer": "ipython3",
   "version": "3.6.7"
  }
 },
 "nbformat": 4,
 "nbformat_minor": 2
}
