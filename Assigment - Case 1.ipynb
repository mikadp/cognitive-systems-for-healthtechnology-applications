{
 "cells": [
  {
   "cell_type": "markdown",
   "metadata": {},
   "source": [
    "# Case 1. Heart Disease Classification\n",
    "Mika Paavola\n",
    "5.2.2019\n",
    "Helsinki Metropolia University of Applied Sciences"
   ]
  },
  {
   "cell_type": "markdown",
   "metadata": {},
   "source": [
    "# Background\n",
    "This document is done in Cognitive Systems for Health Technology Applications course. The aim of this assigment was to learn neural networks and learn test model architectures, solver optimizer, and training settings. Also learn how to use matplotlib tools to make graphical presentations."
   ]
  },
  {
   "cell_type": "markdown",
   "metadata": {},
   "source": [
    "# Data\n",
    "Database includes heart disease diagnosis with numerical values from 0 to 4, data is collected from Cleveland Clinic Foundation. Icludes 303 instances and 14 Attributes (total 76). Database has several missing attributes "
   ]
  },
  {
   "cell_type": "markdown",
   "metadata": {},
   "source": [
    "## Import libraries and import data set from url "
   ]
  },
  {
   "cell_type": "code",
   "execution_count": 1,
   "metadata": {},
   "outputs": [
    {
     "name": "stdout",
     "output_type": "stream",
     "text": [
      "Populating the interactive namespace from numpy and matplotlib\n"
     ]
    },
    {
     "name": "stderr",
     "output_type": "stream",
     "text": [
      "Using TensorFlow backend.\n"
     ]
    }
   ],
   "source": [
    "%pylab inline\n",
    "import time\n",
    "import pandas as pd\n",
    "import numpy as np\n",
    "\n",
    "\n",
    "from sklearn.utils import shuffle\n",
    "from sklearn.metrics import confusion_matrix, precision_recall_fscore_support\n",
    "\n",
    "from keras.utils import to_categorical\n",
    "from keras import models, layers"
   ]
  },
  {
   "cell_type": "markdown",
   "metadata": {},
   "source": [
    "## Data description and preprocessing"
   ]
  },
  {
   "cell_type": "code",
   "execution_count": 2,
   "metadata": {},
   "outputs": [],
   "source": [
    "#URL for dataframe\n",
    "url = r'https://archive.ics.uci.edu/ml/machine-learning-databases/heart-disease/processed.cleveland.data'\n",
    "df = pd.read_csv(url, sep =',', header = None, index_col = None, na_values = '?')\n",
    "\n",
    "#Data description and preprocessing\n",
    "\n",
    "#column names from dataset\n",
    "names_list = ['age','sex','cp','trestbps','chol','fbs','restecg','thalac','exang','oldpeak','slope','ca','thal','num']\n",
    "df.columns = names_list\n",
    "\n",
    "# Filling missing data with median values\n",
    "df = df.fillna(df.median())\n",
    "\n",
    "# Randomize rows\n",
    "df = shuffle(df)\n",
    "df.describe()\n",
    "\n",
    "# Select the data (input) columns\n",
    "data_list = ['age', 'sex', 'cp','trestbps', 'chol', 'fbs','restecg','thalac','exang','oldpeak','slope','ca','thal']\n",
    "data = df[data_list]\n",
    "\n",
    "# Scale the data\n",
    "data_min = data.min()\n",
    "data_max = data.max()\n",
    "data_norm = (data - data_min)/(data_max - data_min)\n",
    "\n",
    "# Check descriptive statistics of normalized data\n",
    "data_norm.describe()\n",
    "\n",
    "# Select labels (output)\n",
    "labels = df['num']"
   ]
  },
  {
   "cell_type": "markdown",
   "metadata": {},
   "source": [
    "# Modeling and compilation\n",
    "\n",
    "Here i use matplotlib to plot histogram about severity of disease from -0.5 to 4.5\n",
    "Then i split dataset to training data and validation data where training data is  0 to 200 and validation is rest.\n",
    "Next step i use Keras Sequential model which is stack of layers it's easy way to build constructor\n",
    "Then i add three layers and its purpose is to make input shape clear\n",
    "next layers activation 'sigmoid' turns output result between 0 to 1\n",
    "\n",
    "Last thing was to compile model where i use 'adam' optimizer and 'categorical_crossentropy' loss function and 'accuracy' for monitoring accuracy during the training optimize helps to make sure theres not happening over load of inputs.\n",
    "\n",
    "\n",
    "Description and code for the neural networks model(s) o How the training and testing were conducted (epoch, batch sizes, solver settings) o How much data was used for testing/validation purposes "
   ]
  },
  {
   "cell_type": "code",
   "execution_count": 94,
   "metadata": {},
   "outputs": [
    {
     "data": {
      "image/png": "[encoded data removed]",
      "text/plain": [
       "<Figure size 432x288 with 1 Axes>"
      ]
     },
     "metadata": {
      "needs_background": "light"
     },
     "output_type": "display_data"
    },
    {
     "name": "stdout",
     "output_type": "stream",
     "text": [
      "Shape of data and one hot labels: (303, 13) (303, 5)\n",
      "_________________________________________________________________\n",
      "Layer (type)                 Output Shape              Param #   \n",
      "=================================================================\n",
      "dense_41 (Dense)             (None, 25)                350       \n",
      "_________________________________________________________________\n",
      "dense_42 (Dense)             (None, 15)                390       \n",
      "_________________________________________________________________\n",
      "dense_43 (Dense)             (None, 5)                 80        \n",
      "=================================================================\n",
      "Total params: 820\n",
      "Trainable params: 820\n",
      "Non-trainable params: 0\n",
      "_________________________________________________________________\n"
     ]
    }
   ],
   "source": [
    "# Plot the histogram of the labels (severity of the disease)\n",
    "plt.hist(labels, bins = [0, 1, 2, 3, 4, 5])\n",
    "plt.xlabel('Severity of the disease')\n",
    "plt.ylabel('Frequency')\n",
    "plt.title('Histogram of labels')\n",
    "show()\n",
    "\n",
    "#Labels to categorical output\n",
    "one_hot_labels = to_categorical(labels)\n",
    "one_hot_labels[:,:5]\n",
    "\n",
    "#check the shapes of the normalized data and categorical output\n",
    "print('Shape of data and one hot labels:', data_norm.shape, one_hot_labels.shape)\n",
    "\n",
    "# Split the data and labels into training and validation sets\n",
    "train_data = data_norm[:200]\n",
    "val_data = data_norm[200:]\n",
    "\n",
    "train_labels = one_hot_labels[:200]\n",
    "val_labels = one_hot_labels[200:]\n",
    "\n",
    "#build the model\n",
    "model = models.Sequential()\n",
    "model.add(layers.Dense(25, activation='sigmoid', input_shape=(13,)))\n",
    "model.add(layers.Dense(15, activation='sigmoid'))\n",
    "model.add(layers.Dense(5, activation='sigmoid'))\n",
    "model.summary()\n",
    "\n",
    "#compile thje model\n",
    "model.compile(optimizer = 'adam',\n",
    "             loss = 'categorical_crossentropy',\n",
    "             metrics = ['accuracy'])\n",
    "\n",
    "# fit the model with the data and keep record on elapsed time\n",
    "t_strat = time.time()"
   ]
  },
  {
   "cell_type": "markdown",
   "metadata": {},
   "source": [
    "# Training and Validation\n",
    "\n",
    "model.fit fits the data to the data the i select samples and how many epochs i set one epoch means how many times it goes through the trainig data. then i set batch size which specify number of samples\n",
    "\n",
    "then using matplotlib i visualize training loss and accuracy"
   ]
  },
  {
   "cell_type": "code",
   "execution_count": 92,
   "metadata": {
    "scrolled": false
   },
   "outputs": [
    {
     "name": "stdout",
     "output_type": "stream",
     "text": [
      "Elapsed time: 2.12 seconds\n"
     ]
    },
    {
     "data": {
      "image/png": "[encoded data removed]",
      "text/plain": [
       "<Figure size 432x288 with 1 Axes>"
      ]
     },
     "metadata": {
      "needs_background": "light"
     },
     "output_type": "display_data"
    },
    {
     "data": {
      "image/png": "[encoded data removed]",
      "text/plain": [
       "<Figure size 432x288 with 1 Axes>"
      ]
     },
     "metadata": {
      "needs_background": "light"
     },
     "output_type": "display_data"
    }
   ],
   "source": [
    "# Fit the model with the data and keep record on elapsed time\n",
    "t_start = time.time()\n",
    "history = model.fit(train_data, train_labels, \n",
    "                    epochs = 200, \n",
    "                    batch_size = 25, \n",
    "                    verbose = 0,\n",
    "                    validation_data = (val_data, val_labels))\n",
    "t_end = time.time()\n",
    "print('Elapsed time: {:.2f} seconds'.format(t_end - t_start))\n",
    "\n",
    "# Get the training data\n",
    "history_dict = history.history\n",
    "loss_values = history_dict['loss']\n",
    "val_loss_values = history_dict['val_loss']\n",
    "acc_values = history_dict['acc']\n",
    "val_acc_values = history_dict['val_acc']\n",
    "epochs = range(1, len(loss_values) + 1)\n",
    "\n",
    "# Visualize the training process: loss function\n",
    "plt.figure()\n",
    "plt.plot(epochs, loss_values, 'b', label='Training loss')\n",
    "plt.plot(epochs, val_loss_values, 'r', label='Validation loss')\n",
    "plt.xlabel('Epochs')\n",
    "plt.ylabel('Loss')\n",
    "plt.ylim([0, 1])\n",
    "plt.legend()\n",
    "plt.show()\n",
    "\n",
    "# Visualize the accuracy\n",
    "plt.figure()\n",
    "plt.plot(epochs, acc_values, 'b', label='Training acc')\n",
    "plt.plot(epochs, val_acc_values, 'r', label='Validation acc')\n",
    "plt.xlabel('Epochs')\n",
    "plt.ylabel('Accuracy')\n",
    "plt.ylim([0, 1])\n",
    "plt.legend()\n",
    "plt.show()"
   ]
  },
  {
   "cell_type": "markdown",
   "metadata": {},
   "source": [
    "# Results and Discussion\n",
    "\n",
    "Results, i print the confusion matric which shows correct predictions \n",
    "then precision which shows measure of classifier's exactness more higher is more accurate\n",
    "then Recall which is a measure of a classifier’s completeness. The higher the recall, the more cases the classifier covers.\n"
   ]
  },
  {
   "cell_type": "code",
   "execution_count": 93,
   "metadata": {},
   "outputs": [
    {
     "name": "stdout",
     "output_type": "stream",
     "text": [
      "Best guess: 0.5413\n",
      "Total accuracy: 0.6568\n",
      "Confusion matrix:\n",
      "[[155   4   2   3   0]\n",
      " [ 28  15   1  11   0]\n",
      " [  8   4   8  16   0]\n",
      " [  2   8   4  21   0]\n",
      " [  0   4   0   9   0]]\n",
      "Support: [164  55  36  35  13]\n",
      "Precision: [ 0.803  0.429  0.533  0.350  0.000]\n",
      "Recall:    [ 0.945  0.273  0.222  0.600  0.000]\n",
      "F-score:   [ 0.868  0.333  0.314  0.442  0.000]\n"
     ]
    }
   ],
   "source": [
    "# Print total accuracy and confusion matrix\n",
    "val_predicts = model.predict(data_norm)\n",
    "y_pred = argmax(val_predicts, axis = 1)\n",
    "cm = confusion_matrix(labels, y_pred)\n",
    "\n",
    "# Best guess = Guess that all are normal\n",
    "# ==> Normal cases are correctly classified\n",
    "# Normal cases can be counted by summing all labels that are zeros\n",
    "print('Best guess: {:.4f}'.format(np.sum(labels == 0)/len(labels)))\n",
    "\n",
    "# Accuracy can be calculated from the confusion matrix by\n",
    "# counting all elements in diagonal (=trace of the matrix)\n",
    "print('Total accuracy: {:.4f}'.format(np.trace(cm)/sum(cm)))\n",
    "print('Confusion matrix:')\n",
    "print(cm)\n",
    "\n",
    "# Calculate precision, recall, fscore and support\n",
    "with warnings.catch_warnings():\n",
    "    warnings.simplefilter(\"ignore\")\n",
    "    p, r, f, s = precision_recall_fscore_support(labels, y_pred)\n",
    "\n",
    "# Print precision, recall, fscore and support  \n",
    "np.set_printoptions(formatter={'float': '{: 0.3f}'.format})\n",
    "print('Support:', s)\n",
    "print('Precision:', p)\n",
    "print('Recall:   ', r)\n",
    "print('F-score:  ', f)"
   ]
  },
  {
   "cell_type": "markdown",
   "metadata": {},
   "source": [
    "# Conclusions\n"
   ]
  },
  {
   "cell_type": "markdown",
   "metadata": {},
   "source": [
    "at the end accuracy shows how many times the model gives right diagnose and accuracy is about 65%\n",
    "confusion matrix shows perfomance of algorithm."
   ]
  },
  {
   "cell_type": "code",
   "execution_count": null,
   "metadata": {},
   "outputs": [],
   "source": []
  }
 ],
 "metadata": {
  "kernelspec": {
   "display_name": "Python 3",
   "language": "python",
   "name": "python3"
  },
  "language_info": {
   "codemirror_mode": {
    "name": "ipython",
    "version": 3
   },
   "file_extension": ".py",
   "mimetype": "text/x-python",
   "name": "python",
   "nbconvert_exporter": "python",
   "pygments_lexer": "ipython3",
   "version": "3.6.7"
  }
 },
 "nbformat": 4,
 "nbformat_minor": 2
}
